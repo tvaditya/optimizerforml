{
 "cells": [
  {
   "cell_type": "code",
   "execution_count": 91,
   "metadata": {
    "collapsed": true,
    "ExecuteTime": {
     "start_time": "2023-04-02T22:14:55.176495Z",
     "end_time": "2023-04-02T22:14:55.198290Z"
    }
   },
   "outputs": [],
   "source": [
    "from sklearn.datasets import load_breast_cancer\n",
    "from sklearn.tree import DecisionTreeClassifier\n",
    "import pandas as pd\n",
    "import numpy as np\n",
    "from sklearn.model_selection import cross_val_score\n",
    "from sklearn.model_selection import RepeatedStratifiedKFold"
   ]
  },
  {
   "cell_type": "code",
   "execution_count": 92,
   "outputs": [],
   "source": [
    "data = load_breast_cancer()"
   ],
   "metadata": {
    "collapsed": false,
    "ExecuteTime": {
     "start_time": "2023-04-02T22:14:55.181996Z",
     "end_time": "2023-04-02T22:14:55.207506Z"
    }
   }
  },
  {
   "cell_type": "code",
   "execution_count": 93,
   "outputs": [
    {
     "data": {
      "text/plain": "   mean radius  mean texture  mean perimeter  mean area  mean smoothness  \\\n0        17.99         10.38          122.80     1001.0          0.11840   \n1        20.57         17.77          132.90     1326.0          0.08474   \n2        19.69         21.25          130.00     1203.0          0.10960   \n3        11.42         20.38           77.58      386.1          0.14250   \n4        20.29         14.34          135.10     1297.0          0.10030   \n\n   mean compactness  mean concavity  mean concave points  mean symmetry  \\\n0           0.27760          0.3001              0.14710         0.2419   \n1           0.07864          0.0869              0.07017         0.1812   \n2           0.15990          0.1974              0.12790         0.2069   \n3           0.28390          0.2414              0.10520         0.2597   \n4           0.13280          0.1980              0.10430         0.1809   \n\n   mean fractal dimension  ...  worst texture  worst perimeter  worst area  \\\n0                 0.07871  ...          17.33           184.60      2019.0   \n1                 0.05667  ...          23.41           158.80      1956.0   \n2                 0.05999  ...          25.53           152.50      1709.0   \n3                 0.09744  ...          26.50            98.87       567.7   \n4                 0.05883  ...          16.67           152.20      1575.0   \n\n   worst smoothness  worst compactness  worst concavity  worst concave points  \\\n0            0.1622             0.6656           0.7119                0.2654   \n1            0.1238             0.1866           0.2416                0.1860   \n2            0.1444             0.4245           0.4504                0.2430   \n3            0.2098             0.8663           0.6869                0.2575   \n4            0.1374             0.2050           0.4000                0.1625   \n\n   worst symmetry  worst fractal dimension  target  \n0          0.4601                  0.11890       0  \n1          0.2750                  0.08902       0  \n2          0.3613                  0.08758       0  \n3          0.6638                  0.17300       0  \n4          0.2364                  0.07678       0  \n\n[5 rows x 31 columns]",
      "text/html": "<div>\n<style scoped>\n    .dataframe tbody tr th:only-of-type {\n        vertical-align: middle;\n    }\n\n    .dataframe tbody tr th {\n        vertical-align: top;\n    }\n\n    .dataframe thead th {\n        text-align: right;\n    }\n</style>\n<table border=\"1\" class=\"dataframe\">\n  <thead>\n    <tr style=\"text-align: right;\">\n      <th></th>\n      <th>mean radius</th>\n      <th>mean texture</th>\n      <th>mean perimeter</th>\n      <th>mean area</th>\n      <th>mean smoothness</th>\n      <th>mean compactness</th>\n      <th>mean concavity</th>\n      <th>mean concave points</th>\n      <th>mean symmetry</th>\n      <th>mean fractal dimension</th>\n      <th>...</th>\n      <th>worst texture</th>\n      <th>worst perimeter</th>\n      <th>worst area</th>\n      <th>worst smoothness</th>\n      <th>worst compactness</th>\n      <th>worst concavity</th>\n      <th>worst concave points</th>\n      <th>worst symmetry</th>\n      <th>worst fractal dimension</th>\n      <th>target</th>\n    </tr>\n  </thead>\n  <tbody>\n    <tr>\n      <th>0</th>\n      <td>17.99</td>\n      <td>10.38</td>\n      <td>122.80</td>\n      <td>1001.0</td>\n      <td>0.11840</td>\n      <td>0.27760</td>\n      <td>0.3001</td>\n      <td>0.14710</td>\n      <td>0.2419</td>\n      <td>0.07871</td>\n      <td>...</td>\n      <td>17.33</td>\n      <td>184.60</td>\n      <td>2019.0</td>\n      <td>0.1622</td>\n      <td>0.6656</td>\n      <td>0.7119</td>\n      <td>0.2654</td>\n      <td>0.4601</td>\n      <td>0.11890</td>\n      <td>0</td>\n    </tr>\n    <tr>\n      <th>1</th>\n      <td>20.57</td>\n      <td>17.77</td>\n      <td>132.90</td>\n      <td>1326.0</td>\n      <td>0.08474</td>\n      <td>0.07864</td>\n      <td>0.0869</td>\n      <td>0.07017</td>\n      <td>0.1812</td>\n      <td>0.05667</td>\n      <td>...</td>\n      <td>23.41</td>\n      <td>158.80</td>\n      <td>1956.0</td>\n      <td>0.1238</td>\n      <td>0.1866</td>\n      <td>0.2416</td>\n      <td>0.1860</td>\n      <td>0.2750</td>\n      <td>0.08902</td>\n      <td>0</td>\n    </tr>\n    <tr>\n      <th>2</th>\n      <td>19.69</td>\n      <td>21.25</td>\n      <td>130.00</td>\n      <td>1203.0</td>\n      <td>0.10960</td>\n      <td>0.15990</td>\n      <td>0.1974</td>\n      <td>0.12790</td>\n      <td>0.2069</td>\n      <td>0.05999</td>\n      <td>...</td>\n      <td>25.53</td>\n      <td>152.50</td>\n      <td>1709.0</td>\n      <td>0.1444</td>\n      <td>0.4245</td>\n      <td>0.4504</td>\n      <td>0.2430</td>\n      <td>0.3613</td>\n      <td>0.08758</td>\n      <td>0</td>\n    </tr>\n    <tr>\n      <th>3</th>\n      <td>11.42</td>\n      <td>20.38</td>\n      <td>77.58</td>\n      <td>386.1</td>\n      <td>0.14250</td>\n      <td>0.28390</td>\n      <td>0.2414</td>\n      <td>0.10520</td>\n      <td>0.2597</td>\n      <td>0.09744</td>\n      <td>...</td>\n      <td>26.50</td>\n      <td>98.87</td>\n      <td>567.7</td>\n      <td>0.2098</td>\n      <td>0.8663</td>\n      <td>0.6869</td>\n      <td>0.2575</td>\n      <td>0.6638</td>\n      <td>0.17300</td>\n      <td>0</td>\n    </tr>\n    <tr>\n      <th>4</th>\n      <td>20.29</td>\n      <td>14.34</td>\n      <td>135.10</td>\n      <td>1297.0</td>\n      <td>0.10030</td>\n      <td>0.13280</td>\n      <td>0.1980</td>\n      <td>0.10430</td>\n      <td>0.1809</td>\n      <td>0.05883</td>\n      <td>...</td>\n      <td>16.67</td>\n      <td>152.20</td>\n      <td>1575.0</td>\n      <td>0.1374</td>\n      <td>0.2050</td>\n      <td>0.4000</td>\n      <td>0.1625</td>\n      <td>0.2364</td>\n      <td>0.07678</td>\n      <td>0</td>\n    </tr>\n  </tbody>\n</table>\n<p>5 rows × 31 columns</p>\n</div>"
     },
     "execution_count": 93,
     "metadata": {},
     "output_type": "execute_result"
    }
   ],
   "source": [
    "df = pd.DataFrame(data.data, columns=data.feature_names)\n",
    "df['target'] = data.target\n",
    "df.head()"
   ],
   "metadata": {
    "collapsed": false,
    "ExecuteTime": {
     "start_time": "2023-04-02T22:14:55.188998Z",
     "end_time": "2023-04-02T22:14:55.227137Z"
    }
   }
  },
  {
   "cell_type": "code",
   "execution_count": 94,
   "outputs": [
    {
     "data": {
      "text/plain": "(569, 31)"
     },
     "execution_count": 94,
     "metadata": {},
     "output_type": "execute_result"
    }
   ],
   "source": [
    "df.shape"
   ],
   "metadata": {
    "collapsed": false,
    "ExecuteTime": {
     "start_time": "2023-04-02T22:14:55.204769Z",
     "end_time": "2023-04-02T22:14:55.227281Z"
    }
   }
  },
  {
   "cell_type": "code",
   "execution_count": 95,
   "outputs": [],
   "source": [
    "X = df.drop(['target'], axis=1)\n",
    "y = df['target'].astype(float)"
   ],
   "metadata": {
    "collapsed": false,
    "ExecuteTime": {
     "start_time": "2023-04-02T22:14:55.210216Z",
     "end_time": "2023-04-02T22:14:55.227962Z"
    }
   }
  },
  {
   "cell_type": "code",
   "execution_count": 96,
   "outputs": [
    {
     "data": {
      "text/plain": "Index(['mean radius', 'mean texture', 'mean perimeter', 'mean area',\n       'mean smoothness', 'mean compactness', 'mean concavity',\n       'mean concave points', 'mean symmetry', 'mean fractal dimension',\n       'radius error', 'texture error', 'perimeter error', 'area error',\n       'smoothness error', 'compactness error', 'concavity error',\n       'concave points error', 'symmetry error', 'fractal dimension error',\n       'worst radius', 'worst texture', 'worst perimeter', 'worst area',\n       'worst smoothness', 'worst compactness', 'worst concavity',\n       'worst concave points', 'worst symmetry', 'worst fractal dimension',\n       'target'],\n      dtype='object')"
     },
     "execution_count": 96,
     "metadata": {},
     "output_type": "execute_result"
    }
   ],
   "source": [
    "df.columns"
   ],
   "metadata": {
    "collapsed": false,
    "ExecuteTime": {
     "start_time": "2023-04-02T22:14:55.213531Z",
     "end_time": "2023-04-02T22:14:55.228091Z"
    }
   }
  },
  {
   "cell_type": "code",
   "execution_count": 97,
   "outputs": [],
   "source": [
    "model = DecisionTreeClassifier()"
   ],
   "metadata": {
    "collapsed": false,
    "ExecuteTime": {
     "start_time": "2023-04-02T22:14:55.216191Z",
     "end_time": "2023-04-02T22:14:55.228170Z"
    }
   }
  },
  {
   "cell_type": "code",
   "execution_count": 98,
   "outputs": [
    {
     "name": "stdout",
     "output_type": "stream",
     "text": [
      "Mean recall: 0.9400625978090765 0.02587151952992362\n",
      "[0.94366197 0.87323944 0.94444444 0.95833333 0.94366197 0.91549296\n",
      " 0.90140845 0.90277778 0.93055556 0.92957746 0.97183099 0.94366197\n",
      " 0.95833333 0.93055556 0.91549296 0.97183099 0.94366197 0.97222222\n",
      " 0.91666667 0.95774648 0.94366197 0.98591549 0.93055556 0.94444444\n",
      " 0.97183099]\n"
     ]
    }
   ],
   "source": [
    "cv = RepeatedStratifiedKFold(n_splits=5, n_repeats=5, random_state=2023)\n",
    "scores = cross_val_score(model, X, y, scoring = \"recall\", cv=cv, n_jobs=-1)\n",
    "print(f\"Mean recall: {np.mean(scores)} {np.std(scores)}\")\n",
    "print(scores)"
   ],
   "metadata": {
    "collapsed": false,
    "ExecuteTime": {
     "start_time": "2023-04-02T22:14:55.218582Z",
     "end_time": "2023-04-02T22:14:56.155480Z"
    }
   }
  },
  {
   "cell_type": "code",
   "execution_count": 99,
   "outputs": [
    {
     "data": {
      "text/plain": "(25, 0.9859154929577465, 0.8732394366197183)"
     },
     "execution_count": 99,
     "metadata": {},
     "output_type": "execute_result"
    }
   ],
   "source": [
    "len(scores), max(scores), min(scores)"
   ],
   "metadata": {
    "collapsed": false,
    "ExecuteTime": {
     "start_time": "2023-04-02T22:14:56.156800Z",
     "end_time": "2023-04-02T22:14:56.159301Z"
    }
   }
  },
  {
   "cell_type": "markdown",
   "source": [
    "## Version with subset of features"
   ],
   "metadata": {
    "collapsed": false
   }
  },
  {
   "cell_type": "code",
   "execution_count": 100,
   "outputs": [],
   "source": [
    "from itertools import product\n",
    "from numpy import mean\n",
    "from sklearn.datasets import make_classification\n",
    "from sklearn.model_selection import cross_val_score\n",
    "from sklearn.model_selection import RepeatedStratifiedKFold\n",
    "from sklearn.tree import DecisionTreeClassifier"
   ],
   "metadata": {
    "collapsed": false,
    "ExecuteTime": {
     "start_time": "2023-04-02T22:14:56.160139Z",
     "end_time": "2023-04-02T22:14:56.162004Z"
    }
   }
  },
  {
   "cell_type": "code",
   "execution_count": 101,
   "outputs": [
    {
     "data": {
      "text/plain": "30"
     },
     "execution_count": 101,
     "metadata": {},
     "output_type": "execute_result"
    }
   ],
   "source": [
    "n_cols = X.shape[1]\n",
    "best_subset, best_score = None, 0.0\n",
    "n_cols"
   ],
   "metadata": {
    "collapsed": false,
    "ExecuteTime": {
     "start_time": "2023-04-02T22:14:56.163026Z",
     "end_time": "2023-04-02T22:14:56.165487Z"
    }
   }
  },
  {
   "cell_type": "code",
   "execution_count": 102,
   "outputs": [
    {
     "name": "stdout",
     "output_type": "stream",
     "text": [
      "1\n",
      "2\n",
      "3\n",
      "4\n",
      "5\n",
      "6\n",
      "7\n",
      "8\n",
      "9\n",
      "10\n",
      "11\n",
      "12\n",
      "13\n",
      "14\n",
      "15\n",
      "16\n",
      "17\n",
      "18\n",
      "19\n",
      "20\n",
      "21\n",
      "22\n",
      "23\n",
      "24\n",
      "25\n",
      "26\n",
      "27\n",
      "28\n",
      "29\n",
      "30\n",
      "31\n",
      "32\n",
      "33\n",
      "34\n",
      "35\n",
      "36\n",
      "37\n",
      "38\n",
      "39\n",
      "40\n",
      "41\n",
      "42\n",
      "43\n",
      "44\n",
      "45\n",
      "46\n",
      "47\n",
      "48\n",
      "49\n",
      "50\n",
      "51\n",
      "52\n",
      "53\n",
      "54\n",
      "55\n",
      "56\n",
      "57\n",
      "58\n",
      "59\n",
      "60\n",
      "61\n",
      "62\n",
      "63\n",
      "64\n",
      "65\n",
      "66\n",
      "67\n",
      "68\n",
      "69\n",
      "70\n",
      "71\n",
      "72\n",
      "73\n",
      "74\n",
      "75\n",
      "76\n",
      "77\n",
      "78\n",
      "79\n",
      "80\n",
      "81\n",
      "82\n",
      "83\n",
      "84\n",
      "85\n",
      "86\n",
      "87\n",
      "88\n",
      "89\n",
      "90\n",
      "91\n",
      "92\n",
      "93\n",
      "94\n",
      "95\n",
      "96\n",
      "97\n",
      "98\n",
      "99\n",
      "100\n"
     ]
    }
   ],
   "source": [
    "import random\n",
    "\n",
    "# create an empty list to store the result\n",
    "feature_list_random = []\n",
    "n = 0\n",
    "# generate 100 lists\n",
    "for i in range(100):\n",
    "    # create an empty list to store the boolean values\n",
    "    sub_list = []\n",
    "\n",
    "    # generate 30 boolean values\n",
    "    for j in range(30):\n",
    "        sub_list.append(random.choice([True, False]))\n",
    "    n=n+1\n",
    "    # add the sub_list to the result list\n",
    "    print(n)\n",
    "    feature_list_random.append(sub_list)\n",
    "\n",
    "# print the result\n",
    "# print(result)"
   ],
   "metadata": {
    "collapsed": false,
    "ExecuteTime": {
     "start_time": "2023-04-02T22:14:56.168134Z",
     "end_time": "2023-04-02T22:14:56.170008Z"
    }
   }
  },
  {
   "cell_type": "code",
   "execution_count": 103,
   "outputs": [
    {
     "data": {
      "text/plain": "30"
     },
     "execution_count": 103,
     "metadata": {},
     "output_type": "execute_result"
    }
   ],
   "source": [
    "len(feature_list_random[1])"
   ],
   "metadata": {
    "collapsed": false,
    "ExecuteTime": {
     "start_time": "2023-04-02T22:14:56.171159Z",
     "end_time": "2023-04-02T22:14:56.173171Z"
    }
   }
  },
  {
   "cell_type": "code",
   "execution_count": 104,
   "outputs": [
    {
     "name": "stdout",
     "output_type": "stream",
     "text": [
      "Subset: [0, 1, 2, 3, 8, 9, 12, 13, 17, 21, 22, 25, 26, 27] Result: 0.935550185173561\n",
      "Subset: [1, 4, 5, 10, 11, 12, 14, 15, 16, 20, 21, 22, 23, 24, 25, 28] Result: 0.929932207645471\n",
      "Subset: [0, 3, 5, 6, 8, 10, 13, 15, 22, 23, 24, 26, 29] Result: 0.9383591739376058\n",
      "Subset: [1, 4, 6, 8, 9, 11, 13, 14, 17, 18, 21, 22, 26, 27, 28, 29] Result: 0.935550185173561\n",
      "Subset: [2, 5, 7, 9, 10, 11, 14, 15, 17, 22, 23, 25, 27, 28] Result: 0.9439771514656958\n",
      "Subset: [0, 2, 4, 7, 16, 17, 18, 19, 20, 22, 24, 25, 26, 27, 28] Result: 0.932741196409516\n",
      "Subset: [1, 4, 5, 6, 7, 10, 11, 12, 13, 16, 17, 19, 20, 21, 22, 23, 25, 29] Result: 0.935550185173561\n",
      "Subset: [1, 2, 6, 7, 8, 9, 11, 13, 15, 16, 19, 21, 22, 24, 25, 28] Result: 0.9411681627016508\n",
      "Subset: [0, 1, 3, 6, 7, 8, 9, 11, 12, 16, 17, 18, 19, 20, 23, 25, 28] Result: 0.935550185173561\n",
      "Subset: [1, 5, 7, 9, 11, 12, 13, 14, 16, 17, 19, 23, 24, 26, 27, 29] Result: 0.9271232188814261\n",
      "Subset: [4, 5, 6, 8, 9, 10, 14, 16, 18, 20, 22, 24, 25, 26, 27] Result: 0.935550185173561\n",
      "Subset: [1, 2, 4, 6, 7, 10, 11, 15, 16, 19, 21, 24, 26, 28, 29] Result: 0.935550185173561\n",
      "Subset: [0, 1, 4, 7, 9, 10, 11, 13, 16, 18, 19, 20, 22, 23, 24, 28] Result: 0.935550185173561\n",
      "Subset: [0, 1, 2, 5, 7, 9, 10, 11, 13, 17, 19, 23, 25, 26, 27, 28] Result: 0.9383591739376058\n",
      "Subset: [0, 2, 5, 6, 7, 8, 11, 12, 16, 17, 20, 28, 29] Result: 0.935550185173561\n",
      "Subset: [2, 4, 5, 6, 7, 8, 10, 11, 13, 15, 16, 17, 18, 19, 20, 22, 24, 26, 27, 28] Result: 0.9271232188814261\n",
      "Subset: [2, 5, 7, 8, 9, 13, 16, 17, 18, 20, 21, 23, 24, 25, 26, 28, 29] Result: 0.9411681627016508\n",
      "Subset: [3, 4, 5, 7, 9, 10, 11, 12, 15, 18, 19, 20, 23, 24, 27, 28, 29] Result: 0.9383591739376058\n",
      "Subset: [0, 1, 2, 3, 4, 7, 8, 9, 11, 14, 15, 16, 17, 20, 24] Result: 0.935550185173561\n",
      "Subset: [0, 1, 4, 6, 8, 10, 11, 12, 14, 16, 18, 20, 22, 23, 25, 26, 28] Result: 0.9383591739376058\n",
      "Subset: [4, 7, 8, 11, 13, 20, 21, 22, 24, 25, 26, 27, 28, 29] Result: 0.935550185173561\n",
      "Subset: [0, 2, 3, 5, 6, 9, 10, 11, 14, 15, 16, 18, 20, 21, 24, 27] Result: 0.935550185173561\n",
      "Subset: [1, 4, 8, 9, 11, 14, 15, 19, 20, 22, 23, 24, 25, 29] Result: 0.9439771514656958\n",
      "Subset: [2, 5, 6, 7, 9, 12, 13, 17, 18, 20, 21, 22, 23, 25, 27, 28] Result: 0.9467861402297407\n",
      "Subset: [1, 2, 3, 14, 15, 19, 22, 24, 25, 28] Result: 0.9383591739376058\n",
      "Subset: [0, 4, 5, 6, 7, 11, 12, 13, 15, 16, 19, 24, 25, 28] Result: 0.9439771514656958\n",
      "Subset: [1, 2, 3, 5, 8, 9, 10, 12, 13, 14, 16, 17, 18, 19, 20, 23, 24, 28, 29] Result: 0.9411681627016508\n",
      "Subset: [2, 3, 5, 11, 12, 13, 14, 15, 17, 19, 21, 22, 23, 24, 25, 26, 27, 29] Result: 0.932741196409516\n",
      "Subset: [1, 4, 6, 8, 15, 19, 23] Result: 0.9383591739376058\n",
      "Subset: [0, 1, 3, 4, 7, 8, 9, 13, 14, 19, 22, 25, 26] Result: 0.9383591739376058\n",
      "Subset: [0, 4, 9, 10, 12, 16, 19, 20, 21, 26, 28] Result: 0.9411681627016508\n",
      "Subset: [0, 3, 6, 9, 10, 11, 12, 13, 14, 17, 18, 19, 22, 23, 24, 25, 29] Result: 0.935550185173561\n",
      "Subset: [1, 3, 5, 6, 7, 8, 9, 11, 15, 16, 19, 21, 22, 29] Result: 0.9411681627016508\n",
      "Subset: [0, 1, 4, 7, 8, 11, 13, 16, 17, 19, 22, 23, 24, 26, 29] Result: 0.935550185173561\n",
      "Subset: [1, 2, 3, 7, 8, 10, 13, 14, 15, 18, 20, 22, 24, 25, 26, 29] Result: 0.9439771514656958\n",
      "Subset: [1, 6, 7, 8, 9, 10, 12, 13, 15, 18, 19, 22, 27, 28, 29] Result: 0.9383591739376058\n",
      "Subset: [0, 2, 4, 7, 9, 13, 14, 16, 17, 21, 22, 25, 27] Result: 0.9411681627016508\n",
      "Subset: [1, 5, 7, 8, 10, 11, 12, 15, 18, 20, 21, 22, 24, 27] Result: 0.932741196409516\n",
      "Subset: [3, 4, 7, 8, 9, 10, 12, 14, 15, 17, 18, 20, 22, 23, 25, 28, 29] Result: 0.9439771514656958\n",
      "Subset: [0, 1, 3, 4, 6, 7, 8, 9, 12, 16, 17, 19, 21, 23, 24, 25, 27, 28] Result: 0.9411681627016508\n",
      "Subset: [0, 1, 6, 7, 9, 11, 15, 16, 18, 19, 21, 22, 23, 25, 27, 28] Result: 0.932741196409516\n",
      "Subset: [1, 2, 3, 5, 6, 9, 10, 11, 12, 13, 15, 16, 22, 25, 26, 27, 28] Result: 0.9411681627016508\n",
      "Subset: [1, 2, 3, 4, 7, 9, 10, 11, 12, 13, 16, 17, 18, 20, 21, 23, 24, 26, 27, 29] Result: 0.9439771514656958\n",
      "Subset: [0, 1, 2, 4, 5, 8, 9, 12, 13, 14, 17, 18, 19, 22, 24, 25, 26, 27, 29] Result: 0.932741196409516\n",
      "Subset: [1, 3, 5, 6, 8, 9, 10, 12, 14, 15, 17, 22, 23, 24, 25, 27, 28] Result: 0.929932207645471\n",
      "Subset: [0, 2, 4, 6, 9, 12, 13, 17, 21, 22, 23, 25, 26, 27, 28] Result: 0.9411681627016508\n",
      "Subset: [0, 1, 3, 5, 6, 7, 9, 12, 13, 17, 18, 19, 20, 21, 23, 24, 27] Result: 0.9411681627016508\n",
      "Subset: [0, 2, 3, 6, 7, 9, 13, 14, 15, 16, 17, 19, 21, 24, 25, 29] Result: 0.932741196409516\n",
      "Subset: [2, 3, 6, 7, 8, 14, 15, 16, 20, 22, 23, 24, 27, 28, 29] Result: 0.9411681627016508\n",
      "Subset: [0, 5, 6, 9, 12, 21, 23, 27, 29] Result: 0.9411681627016508\n",
      "Subset: [0, 1, 2, 4, 5, 6, 8, 12, 13, 14, 15, 17, 19, 20, 24, 26, 27, 28] Result: 0.929932207645471\n",
      "Subset: [0, 3, 5, 7, 9, 11, 12, 13, 17, 18, 22, 24, 25, 26, 27, 28] Result: 0.9411681627016508\n",
      "Subset: [1, 2, 4, 7, 8, 13, 17, 19, 22, 23, 24, 25, 26, 27, 28, 29] Result: 0.9411681627016508\n",
      "Subset: [0, 1, 3, 4, 5, 6, 7, 10, 16, 17, 18, 19, 22, 23, 25, 27, 28, 29] Result: 0.935550185173561\n",
      "Subset: [0, 3, 6, 8, 9, 14, 15, 16, 19, 20, 23, 24, 25, 27, 28] Result: 0.932741196409516\n",
      "Subset: [1, 2, 3, 4, 6, 9, 10, 11, 12, 17, 19, 21, 22, 24, 25, 26, 29] Result: 0.935550185173561\n",
      "Subset: [1, 3, 9, 11, 15, 16, 17, 24] Result: 0.9411681627016508\n",
      "Subset: [0, 1, 3, 4, 5, 6, 7, 9, 10, 13, 15, 16, 17, 18, 21, 23, 24, 25, 27] Result: 0.929932207645471\n",
      "Subset: [0, 1, 4, 6, 7, 9, 11, 12, 14, 16, 18, 19, 20, 21, 22, 24, 27, 29] Result: 0.9439771514656958\n",
      "Subset: [0, 2, 5, 10, 13, 14, 15, 16, 17, 18, 20, 22, 23, 25, 27] Result: 0.932741196409516\n",
      "Subset: [0, 1, 3, 5, 6, 8, 9, 11, 12, 14, 15, 19, 20, 24, 25, 26, 27, 28] Result: 0.9411681627016508\n",
      "Subset: [0, 2, 3, 4, 6, 7, 8, 9, 11, 12, 14, 15, 17, 20, 21, 22, 23, 24, 25, 26, 28] Result: 0.935550185173561\n",
      "Subset: [0, 1, 3, 4, 5, 7, 11, 12, 13, 14, 17, 18, 19, 21, 22, 23, 25, 26, 27, 29] Result: 0.932741196409516\n",
      "Subset: [2, 4, 6, 7, 8, 9, 12, 13, 17, 18, 23, 24, 25, 26, 28, 29] Result: 0.9411681627016508\n",
      "Subset: [0, 1, 2, 3, 9, 10, 12, 15, 16, 17, 18, 25, 29] Result: 0.932741196409516\n",
      "Subset: [1, 4, 8, 9, 10, 12, 13, 16, 18, 20, 22] Result: 0.935550185173561\n",
      "Subset: [0, 1, 2, 8, 10, 11, 14, 16, 17, 19, 20, 21, 27] Result: 0.935550185173561\n",
      "Subset: [1, 2, 3, 6, 10, 11, 12, 13, 14, 15, 18, 19, 20, 21, 23, 26, 27, 28, 29] Result: 0.9411681627016508\n",
      "Subset: [0, 2, 8, 10, 11, 12, 14, 15, 17, 20, 21, 22, 24] Result: 0.9411681627016508\n",
      "Subset: [0, 1, 4, 7, 8, 9, 12, 16, 17, 18, 21, 22, 24, 25, 26, 27, 28] Result: 0.935550185173561\n",
      "Subset: [0, 3, 4, 5, 6, 8, 11, 12, 16, 17, 18, 19, 21, 22, 23, 25, 26, 28, 29] Result: 0.935550185173561\n",
      "Subset: [2, 7, 14, 15, 17, 18, 19, 23, 24, 25, 28, 29] Result: 0.932741196409516\n",
      "Subset: [1, 2, 3, 5, 13, 16, 19, 20, 21, 22, 23, 26, 28] Result: 0.935550185173561\n",
      "Subset: [2, 3, 4, 5, 6, 9, 11, 13, 14, 15, 17, 18, 20, 22, 23, 24, 25, 28, 29] Result: 0.932741196409516\n",
      "Subset: [1, 2, 4, 5, 6, 7, 9, 10, 11, 12, 15, 20, 24, 26, 29] Result: 0.9383591739376058\n",
      "Subset: [0, 2, 4, 6, 8, 10, 12, 13, 14, 19, 24, 26] Result: 0.9439771514656958\n",
      "Subset: [3, 4, 12, 14, 17, 23, 29] Result: 0.932741196409516\n",
      "Subset: [2, 3, 4, 11, 15, 17, 18, 19, 22, 23, 24, 25, 27, 28] Result: 0.9383591739376058\n",
      "Subset: [5, 6, 8, 11, 14, 15, 18, 22, 23, 25, 26, 29] Result: 0.935550185173561\n",
      "Subset: [3, 4, 7, 9, 12, 13, 14, 15, 17, 21, 22, 23, 25, 26, 28, 29] Result: 0.935550185173561\n",
      "Subset: [1, 10, 11, 12, 13, 14, 16, 17, 21, 23, 24, 29] Result: 0.9383591739376058\n",
      "Subset: [0, 4, 10, 11, 12, 13, 14, 16, 18, 20, 22, 24, 25, 27, 28] Result: 0.9271232188814261\n",
      "Subset: [3, 4, 6, 9, 19, 21, 22, 23, 25, 27, 28] Result: 0.935550185173561\n",
      "Subset: [0, 1, 4, 5, 6, 7, 9, 10, 14, 15, 17, 19, 20, 21, 22, 23, 24, 25, 26, 29] Result: 0.9271232188814261\n",
      "Subset: [2, 4, 5, 7, 8, 9, 11, 15, 16, 20, 22, 24, 25, 26, 27] Result: 0.9411681627016508\n",
      "Subset: [4, 5, 6, 7, 8, 9, 14, 15, 17, 19, 21, 22, 26] Result: 0.9439771514656958\n",
      "Subset: [1, 4, 5, 7, 10, 14, 15, 16, 17, 23, 24, 27, 28] Result: 0.932741196409516\n",
      "Subset: [0, 1, 3, 4, 5, 6, 9, 10, 11, 12, 16, 17, 18, 20, 21, 24, 26, 28, 29] Result: 0.9411681627016508\n",
      "Subset: [5, 6, 7, 9, 10, 11, 16, 18, 19, 21, 23, 25, 26, 28, 29] Result: 0.932741196409516\n",
      "Subset: [0, 1, 3, 4, 6, 7, 8, 9, 11, 15, 17, 18, 19, 23, 24, 25, 27, 28, 29] Result: 0.935550185173561\n",
      "Subset: [0, 2, 3, 6, 8, 9, 10, 12, 13, 14, 18, 19, 21, 24, 26, 28, 29] Result: 0.932741196409516\n",
      "Subset: [2, 3, 5, 7, 10, 11, 13, 15, 16, 19, 20, 22, 25, 26, 29] Result: 0.9411681627016508\n",
      "Subset: [0, 1, 3, 5, 7, 9, 11, 13, 14, 16, 17, 20, 23] Result: 0.932741196409516\n",
      "Subset: [1, 5, 6, 8, 12, 14, 17, 19, 23, 25, 26, 29] Result: 0.9383591739376058\n",
      "Subset: [1, 2, 3, 5, 9, 10, 14, 17, 18, 19, 20, 23, 25] Result: 0.9411681627016508\n",
      "Subset: [1, 3, 4, 5, 6, 7, 10, 12, 14, 16, 17, 19, 20, 22, 25, 27, 28] Result: 0.9383591739376058\n",
      "Subset: [0, 1, 2, 5, 7, 14, 18, 20, 21, 25, 27, 28] Result: 0.9383591739376058\n",
      "Subset: [2, 7, 8, 11, 13, 14, 16, 17, 19, 21, 23, 24, 25, 27, 28, 29] Result: 0.9383591739376058\n",
      "Subset: [0, 2, 4, 5, 6, 10, 12, 14, 15, 16, 17, 18, 19, 21, 23, 24, 25, 26, 27] Result: 0.9439771514656958\n",
      "Subset: [0, 1, 3, 4, 5, 6, 11, 18, 19, 22, 23, 25, 27] Result: 0.929932207645471\n",
      "Achou!\n",
      "Best Subset: [2, 5, 6, 7, 9, 12, 13, 17, 18, 20, 21, 22, 23, 25, 27, 28] Best Score: 0.9467861402297407\n"
     ]
    }
   ],
   "source": [
    "# for subset in product([True, False], repeat = n_cols):\n",
    "for subset in feature_list_random:\n",
    "    ix = [i for i, x in enumerate(subset) if x]\n",
    "\n",
    "    if len(ix) == 0:\n",
    "        continue\n",
    "\n",
    "    X_new = X.iloc[:, ix]\n",
    "\n",
    "    model = DecisionTreeClassifier()\n",
    "    cv = RepeatedStratifiedKFold(n_splits=2, n_repeats=1, random_state=2023)\n",
    "    scores = cross_val_score(model, X, y, scoring = \"recall\", cv=cv, n_jobs=-1)\n",
    "\n",
    "    result = mean(scores)\n",
    "    print(f\"Subset: {ix} Result: {result}\")\n",
    "\n",
    "    if best_score is None or result >= best_score:\n",
    "        best_subset, best_score = ix, result\n",
    "    # break\n",
    "\n",
    "print('Achou!')\n",
    "print(f\"Best Subset: {best_subset} Best Score: {best_score}\")"
   ],
   "metadata": {
    "collapsed": false,
    "ExecuteTime": {
     "start_time": "2023-04-02T22:14:56.177511Z",
     "end_time": "2023-04-02T22:14:56.929265Z"
    }
   }
  },
  {
   "cell_type": "code",
   "execution_count": 105,
   "outputs": [],
   "source": [
    "def column_names_by_indexes(column_names, indexes):\n",
    "    return [column_names[i] for i in indexes]"
   ],
   "metadata": {
    "collapsed": false,
    "ExecuteTime": {
     "start_time": "2023-04-02T22:14:56.928821Z",
     "end_time": "2023-04-02T22:14:56.930671Z"
    }
   }
  },
  {
   "cell_type": "code",
   "execution_count": 106,
   "outputs": [
    {
     "data": {
      "text/plain": "['mean perimeter',\n 'mean compactness',\n 'mean concavity',\n 'mean concave points',\n 'mean fractal dimension',\n 'perimeter error',\n 'area error',\n 'concave points error',\n 'symmetry error',\n 'worst radius',\n 'worst texture',\n 'worst perimeter',\n 'worst area',\n 'worst compactness',\n 'worst concave points',\n 'worst symmetry']"
     },
     "execution_count": 106,
     "metadata": {},
     "output_type": "execute_result"
    }
   ],
   "source": [
    "column_names_by_indexes(df.columns, best_subset)"
   ],
   "metadata": {
    "collapsed": false,
    "ExecuteTime": {
     "start_time": "2023-04-02T22:14:56.931577Z",
     "end_time": "2023-04-02T22:14:56.934423Z"
    }
   }
  },
  {
   "cell_type": "code",
   "execution_count": 107,
   "outputs": [
    {
     "data": {
      "text/plain": "Index(['mean radius', 'mean texture', 'mean perimeter', 'mean area',\n       'mean smoothness', 'mean compactness', 'mean concavity',\n       'mean concave points', 'mean symmetry', 'mean fractal dimension',\n       'radius error', 'texture error', 'perimeter error', 'area error',\n       'smoothness error', 'compactness error', 'concavity error',\n       'concave points error', 'symmetry error', 'fractal dimension error',\n       'worst radius', 'worst texture', 'worst perimeter', 'worst area',\n       'worst smoothness', 'worst compactness', 'worst concavity',\n       'worst concave points', 'worst symmetry', 'worst fractal dimension',\n       'target'],\n      dtype='object')"
     },
     "execution_count": 107,
     "metadata": {},
     "output_type": "execute_result"
    }
   ],
   "source": [
    "df.columns"
   ],
   "metadata": {
    "collapsed": false,
    "ExecuteTime": {
     "start_time": "2023-04-02T22:14:56.935228Z",
     "end_time": "2023-04-02T22:14:56.937641Z"
    }
   }
  },
  {
   "cell_type": "code",
   "execution_count": 108,
   "outputs": [
    {
     "data": {
      "text/plain": "1073741824"
     },
     "execution_count": 108,
     "metadata": {},
     "output_type": "execute_result"
    }
   ],
   "source": [
    "2 ** 30"
   ],
   "metadata": {
    "collapsed": false,
    "ExecuteTime": {
     "start_time": "2023-04-02T22:14:56.938385Z",
     "end_time": "2023-04-02T22:14:56.940635Z"
    }
   }
  },
  {
   "cell_type": "markdown",
   "source": [
    "## Using Hill Climbing as the optimizer"
   ],
   "metadata": {
    "collapsed": false
   }
  },
  {
   "cell_type": "code",
   "execution_count": 114,
   "outputs": [],
   "source": [
    "# objective function\n",
    "def objective(X, y, subset):\n",
    "\t# convert into column indexes\n",
    "\tix = [i for i, x in enumerate(subset) if x]\n",
    "\t# check for now column (all False)\n",
    "\tif len(ix) == 0:\n",
    "\t\treturn 0.0\n",
    "\t# select columns\n",
    "\tX_new = X.iloc[:, ix]\n",
    "\t# define model\n",
    "\tmodel = DecisionTreeClassifier()\n",
    "\t# evaluate model\n",
    "\tscores = cross_val_score(model, X_new, y, scoring='accuracy', cv=3, n_jobs=-1)\n",
    "\t# summarize scores\n",
    "\tresult = mean(scores)\n",
    "\treturn result, ix\n",
    "\n"
   ],
   "metadata": {
    "collapsed": false,
    "ExecuteTime": {
     "start_time": "2023-04-02T22:16:01.086743Z",
     "end_time": "2023-04-02T22:16:01.090934Z"
    }
   }
  },
  {
   "cell_type": "code",
   "execution_count": 115,
   "outputs": [],
   "source": [
    "# mutation operator\n",
    "def mutate(solution, p_mutate):\n",
    "\t# make a copy\n",
    "\tchild = solution.copy()\n",
    "\tfor i in range(len(child)):\n",
    "\t\t# check for a mutation\n",
    "\t\tif np.random.rand() < p_mutate:\n",
    "\t\t\t# flip the inclusion\n",
    "\t\t\tchild[i] = not child[i]\n",
    "\treturn child"
   ],
   "metadata": {
    "collapsed": false,
    "ExecuteTime": {
     "start_time": "2023-04-02T22:16:01.986949Z",
     "end_time": "2023-04-02T22:16:01.996023Z"
    }
   }
  },
  {
   "cell_type": "code",
   "execution_count": 116,
   "outputs": [],
   "source": [
    "# hill climbing local search algorithm\n",
    "def hillclimbing(X, y, objective, n_iter, p_mutate):\n",
    "\t# generate an initial point\n",
    "\tsolution = np.random.choice([True, False], size=X.shape[1])\n",
    "\t# evaluate the initial point\n",
    "\tsolution_eval, ix = objective(X, y, solution)\n",
    "\t# run the hill climb\n",
    "\tfor i in range(n_iter):\n",
    "\t\t# take a step\n",
    "\t\tcandidate = mutate(solution, p_mutate)\n",
    "\t\t# evaluate candidate point\n",
    "\t\tcandidate_eval, ix = objective(X, y, candidate)\n",
    "\t\t# check if we should keep the new point\n",
    "\t\tif candidate_eval >= solution_eval:\n",
    "\t\t\t# store the new point\n",
    "\t\t\tsolution, solution_eval = candidate, candidate_eval\n",
    "\t\t# report progress\n",
    "\t\t# print('>%d f(%s) = %f' % (i+1, len(ix), solution_eval))\n",
    "\t\tprint(f\"i:{i+1}, len: {len(ix)}, solution eval: {solution_eval}\")\n",
    "\treturn solution, solution_eval\n"
   ],
   "metadata": {
    "collapsed": false,
    "ExecuteTime": {
     "start_time": "2023-04-02T22:16:04.113500Z",
     "end_time": "2023-04-02T22:16:04.121369Z"
    }
   }
  },
  {
   "cell_type": "code",
   "execution_count": 121,
   "outputs": [],
   "source": [
    "n_iter = 300\n",
    "p_mut = 2.0/100.0"
   ],
   "metadata": {
    "collapsed": false,
    "ExecuteTime": {
     "start_time": "2023-04-02T22:18:08.422147Z",
     "end_time": "2023-04-02T22:18:08.427643Z"
    }
   }
  },
  {
   "cell_type": "code",
   "execution_count": 122,
   "outputs": [
    {
     "name": "stdout",
     "output_type": "stream",
     "text": [
      "i:1, len: 16, solution eval: 0.9296946068875894\n",
      "i:2, len: 16, solution eval: 0.9296946068875894\n",
      "i:3, len: 16, solution eval: 0.9296946068875894\n",
      "i:4, len: 16, solution eval: 0.9296946068875894\n",
      "i:5, len: 16, solution eval: 0.9297224542838577\n",
      "i:6, len: 17, solution eval: 0.9297224542838577\n",
      "i:7, len: 15, solution eval: 0.9297224542838577\n",
      "i:8, len: 15, solution eval: 0.9297224542838577\n",
      "i:9, len: 15, solution eval: 0.9297224542838577\n",
      "i:10, len: 17, solution eval: 0.9349856121785947\n",
      "i:11, len: 17, solution eval: 0.9349856121785947\n",
      "i:12, len: 18, solution eval: 0.9349856121785947\n",
      "i:13, len: 15, solution eval: 0.9349856121785947\n",
      "i:14, len: 16, solution eval: 0.9349856121785947\n",
      "i:15, len: 17, solution eval: 0.9349856121785947\n",
      "i:16, len: 18, solution eval: 0.9349856121785947\n",
      "i:17, len: 18, solution eval: 0.9349856121785947\n",
      "i:18, len: 18, solution eval: 0.9349856121785947\n",
      "i:19, len: 17, solution eval: 0.9349856121785947\n",
      "i:20, len: 17, solution eval: 0.9349856121785947\n",
      "i:21, len: 17, solution eval: 0.9349856121785947\n",
      "i:22, len: 18, solution eval: 0.9349856121785947\n",
      "i:23, len: 17, solution eval: 0.9349856121785947\n",
      "i:24, len: 17, solution eval: 0.9349856121785947\n",
      "i:25, len: 18, solution eval: 0.9349856121785947\n",
      "i:26, len: 18, solution eval: 0.9385129490392649\n",
      "i:27, len: 18, solution eval: 0.9385129490392649\n",
      "i:28, len: 18, solution eval: 0.9385129490392649\n",
      "i:29, len: 19, solution eval: 0.9385129490392649\n",
      "i:30, len: 17, solution eval: 0.9385129490392649\n",
      "i:31, len: 18, solution eval: 0.9385129490392649\n",
      "i:32, len: 18, solution eval: 0.9385129490392649\n",
      "i:33, len: 20, solution eval: 0.9385129490392649\n",
      "i:34, len: 18, solution eval: 0.9385129490392649\n",
      "i:35, len: 15, solution eval: 0.9454933630372228\n",
      "i:36, len: 18, solution eval: 0.9454933630372228\n",
      "i:37, len: 15, solution eval: 0.9454933630372228\n",
      "i:38, len: 15, solution eval: 0.9472755963984034\n",
      "i:39, len: 15, solution eval: 0.9472755963984034\n",
      "i:40, len: 16, solution eval: 0.9472755963984034\n",
      "i:41, len: 15, solution eval: 0.9472755963984034\n",
      "i:42, len: 16, solution eval: 0.9472755963984034\n",
      "i:43, len: 15, solution eval: 0.9490299823633156\n",
      "i:44, len: 14, solution eval: 0.9490299823633156\n",
      "i:45, len: 17, solution eval: 0.9490299823633156\n",
      "i:46, len: 16, solution eval: 0.9490299823633156\n",
      "i:47, len: 15, solution eval: 0.9490299823633156\n",
      "i:48, len: 16, solution eval: 0.9490299823633156\n",
      "i:49, len: 15, solution eval: 0.9543024227234754\n",
      "i:50, len: 15, solution eval: 0.9543024227234754\n",
      "i:51, len: 14, solution eval: 0.9543024227234754\n",
      "i:52, len: 14, solution eval: 0.9543024227234754\n",
      "i:53, len: 14, solution eval: 0.9543024227234754\n",
      "i:54, len: 15, solution eval: 0.9543024227234754\n",
      "i:55, len: 14, solution eval: 0.9543024227234754\n",
      "i:56, len: 15, solution eval: 0.9543024227234754\n",
      "i:57, len: 15, solution eval: 0.9543024227234754\n",
      "i:58, len: 15, solution eval: 0.9543024227234754\n",
      "i:59, len: 14, solution eval: 0.9543024227234754\n",
      "i:60, len: 14, solution eval: 0.9543024227234754\n",
      "i:61, len: 16, solution eval: 0.9543024227234754\n",
      "i:62, len: 15, solution eval: 0.9543024227234754\n",
      "i:63, len: 15, solution eval: 0.9543024227234754\n",
      "i:64, len: 15, solution eval: 0.9543024227234754\n",
      "i:65, len: 15, solution eval: 0.9543024227234754\n",
      "i:66, len: 14, solution eval: 0.9543024227234754\n",
      "i:67, len: 16, solution eval: 0.9543024227234754\n",
      "i:68, len: 16, solution eval: 0.9543024227234754\n",
      "i:69, len: 14, solution eval: 0.9543024227234754\n",
      "i:70, len: 15, solution eval: 0.9543024227234754\n",
      "i:71, len: 16, solution eval: 0.9543024227234754\n",
      "i:72, len: 14, solution eval: 0.9543024227234754\n",
      "i:73, len: 15, solution eval: 0.9543024227234754\n",
      "i:74, len: 16, solution eval: 0.9543024227234754\n",
      "i:75, len: 14, solution eval: 0.9543024227234754\n",
      "i:76, len: 15, solution eval: 0.9543024227234754\n",
      "i:77, len: 15, solution eval: 0.9543024227234754\n",
      "i:78, len: 12, solution eval: 0.9543024227234754\n",
      "i:79, len: 14, solution eval: 0.9543024227234754\n",
      "i:80, len: 15, solution eval: 0.9543024227234754\n",
      "i:81, len: 16, solution eval: 0.9543024227234754\n",
      "i:82, len: 15, solution eval: 0.9543024227234754\n",
      "i:83, len: 15, solution eval: 0.9543024227234754\n",
      "i:84, len: 16, solution eval: 0.9543024227234754\n",
      "i:85, len: 15, solution eval: 0.9543024227234754\n",
      "i:86, len: 16, solution eval: 0.9543024227234754\n",
      "i:87, len: 14, solution eval: 0.9543024227234754\n",
      "i:88, len: 15, solution eval: 0.9543024227234754\n",
      "i:89, len: 15, solution eval: 0.9543024227234754\n",
      "i:90, len: 15, solution eval: 0.9543024227234754\n",
      "i:91, len: 14, solution eval: 0.9543024227234754\n",
      "i:92, len: 15, solution eval: 0.9543024227234754\n",
      "i:93, len: 16, solution eval: 0.9543024227234754\n",
      "i:94, len: 15, solution eval: 0.9543024227234754\n",
      "i:95, len: 15, solution eval: 0.9543024227234754\n",
      "i:96, len: 15, solution eval: 0.9543024227234754\n",
      "i:97, len: 14, solution eval: 0.9543024227234754\n",
      "i:98, len: 14, solution eval: 0.9543024227234754\n",
      "i:99, len: 14, solution eval: 0.9543024227234754\n",
      "i:100, len: 15, solution eval: 0.9543024227234754\n",
      "i:101, len: 16, solution eval: 0.9543024227234754\n",
      "i:102, len: 14, solution eval: 0.9543024227234754\n",
      "i:103, len: 16, solution eval: 0.9543024227234754\n",
      "i:104, len: 14, solution eval: 0.9543024227234754\n",
      "i:105, len: 14, solution eval: 0.9543024227234754\n",
      "i:106, len: 15, solution eval: 0.9543024227234754\n",
      "i:107, len: 15, solution eval: 0.9543024227234754\n",
      "i:108, len: 15, solution eval: 0.9543024227234754\n",
      "i:109, len: 12, solution eval: 0.9543024227234754\n",
      "i:110, len: 15, solution eval: 0.9543024227234754\n",
      "i:111, len: 15, solution eval: 0.9543024227234754\n",
      "i:112, len: 16, solution eval: 0.9543024227234754\n",
      "i:113, len: 16, solution eval: 0.9543024227234754\n",
      "i:114, len: 15, solution eval: 0.9543024227234754\n",
      "i:115, len: 15, solution eval: 0.9543024227234754\n",
      "i:116, len: 15, solution eval: 0.9543024227234754\n",
      "i:117, len: 14, solution eval: 0.9543024227234754\n",
      "i:118, len: 15, solution eval: 0.9543024227234754\n",
      "i:119, len: 16, solution eval: 0.9543024227234754\n",
      "i:120, len: 15, solution eval: 0.9543024227234754\n",
      "i:121, len: 15, solution eval: 0.9543024227234754\n",
      "i:122, len: 15, solution eval: 0.9543024227234754\n",
      "i:123, len: 14, solution eval: 0.9543024227234754\n",
      "i:124, len: 16, solution eval: 0.9543024227234754\n",
      "i:125, len: 14, solution eval: 0.9543024227234754\n",
      "i:126, len: 16, solution eval: 0.9543024227234754\n",
      "i:127, len: 15, solution eval: 0.9543024227234754\n",
      "i:128, len: 15, solution eval: 0.9543024227234754\n",
      "i:129, len: 16, solution eval: 0.9543024227234754\n",
      "i:130, len: 16, solution eval: 0.9543024227234754\n",
      "i:131, len: 15, solution eval: 0.9543024227234754\n",
      "i:132, len: 15, solution eval: 0.9543024227234754\n",
      "i:133, len: 14, solution eval: 0.9543024227234754\n",
      "i:134, len: 15, solution eval: 0.9543024227234754\n",
      "i:135, len: 15, solution eval: 0.9543024227234754\n",
      "i:136, len: 15, solution eval: 0.9543024227234754\n",
      "i:137, len: 16, solution eval: 0.9543024227234754\n",
      "i:138, len: 15, solution eval: 0.9543024227234754\n",
      "i:139, len: 14, solution eval: 0.9543024227234754\n",
      "i:140, len: 15, solution eval: 0.9543024227234754\n",
      "i:141, len: 16, solution eval: 0.9543024227234754\n",
      "i:142, len: 14, solution eval: 0.9543024227234754\n",
      "i:143, len: 15, solution eval: 0.9543024227234754\n",
      "i:144, len: 16, solution eval: 0.9543024227234754\n",
      "i:145, len: 15, solution eval: 0.9543024227234754\n",
      "i:146, len: 15, solution eval: 0.9543024227234754\n",
      "i:147, len: 14, solution eval: 0.9543024227234754\n",
      "i:148, len: 16, solution eval: 0.9543024227234754\n",
      "i:149, len: 14, solution eval: 0.9543024227234754\n",
      "i:150, len: 14, solution eval: 0.9543024227234754\n",
      "i:151, len: 15, solution eval: 0.9543024227234754\n",
      "i:152, len: 14, solution eval: 0.9543024227234754\n",
      "i:153, len: 15, solution eval: 0.9560660911538105\n",
      "i:154, len: 15, solution eval: 0.9560660911538105\n",
      "i:155, len: 15, solution eval: 0.9560660911538105\n",
      "i:156, len: 15, solution eval: 0.9560660911538105\n",
      "i:157, len: 15, solution eval: 0.9560660911538105\n",
      "i:158, len: 15, solution eval: 0.9560660911538105\n",
      "i:159, len: 15, solution eval: 0.9560660911538105\n",
      "i:160, len: 15, solution eval: 0.9560660911538105\n",
      "i:161, len: 15, solution eval: 0.9560660911538105\n",
      "i:162, len: 15, solution eval: 0.9560660911538105\n",
      "i:163, len: 14, solution eval: 0.9560660911538105\n",
      "i:164, len: 14, solution eval: 0.9560660911538105\n",
      "i:165, len: 15, solution eval: 0.9560660911538105\n",
      "i:166, len: 16, solution eval: 0.9560660911538105\n",
      "i:167, len: 15, solution eval: 0.9560660911538105\n",
      "i:168, len: 15, solution eval: 0.9560660911538105\n",
      "i:169, len: 14, solution eval: 0.9560660911538105\n",
      "i:170, len: 16, solution eval: 0.9560660911538105\n",
      "i:171, len: 15, solution eval: 0.9560660911538105\n",
      "i:172, len: 16, solution eval: 0.9560660911538105\n",
      "i:173, len: 15, solution eval: 0.9560660911538105\n",
      "i:174, len: 15, solution eval: 0.9560660911538105\n",
      "i:175, len: 15, solution eval: 0.9560660911538105\n",
      "i:176, len: 15, solution eval: 0.9560660911538105\n",
      "i:177, len: 15, solution eval: 0.9560660911538105\n",
      "i:178, len: 17, solution eval: 0.9560660911538105\n",
      "i:179, len: 15, solution eval: 0.9560660911538105\n",
      "i:180, len: 16, solution eval: 0.9560660911538105\n",
      "i:181, len: 15, solution eval: 0.9560660911538105\n",
      "i:182, len: 17, solution eval: 0.9560660911538105\n",
      "i:183, len: 15, solution eval: 0.9560660911538105\n",
      "i:184, len: 14, solution eval: 0.9560660911538105\n",
      "i:185, len: 15, solution eval: 0.9560660911538105\n",
      "i:186, len: 16, solution eval: 0.9560660911538105\n",
      "i:187, len: 15, solution eval: 0.9560660911538105\n",
      "i:188, len: 16, solution eval: 0.9560660911538105\n",
      "i:189, len: 15, solution eval: 0.9560660911538105\n",
      "i:190, len: 15, solution eval: 0.9560660911538105\n",
      "i:191, len: 15, solution eval: 0.9560660911538105\n",
      "i:192, len: 16, solution eval: 0.9560660911538105\n",
      "i:193, len: 14, solution eval: 0.9560660911538105\n",
      "i:194, len: 14, solution eval: 0.9560660911538105\n",
      "i:195, len: 16, solution eval: 0.9560660911538105\n",
      "i:196, len: 15, solution eval: 0.9560660911538105\n",
      "i:197, len: 16, solution eval: 0.9560660911538105\n",
      "i:198, len: 14, solution eval: 0.9560660911538105\n",
      "i:199, len: 16, solution eval: 0.9560660911538105\n",
      "i:200, len: 15, solution eval: 0.9560660911538105\n",
      "i:201, len: 15, solution eval: 0.9560660911538105\n",
      "i:202, len: 15, solution eval: 0.9560660911538105\n",
      "i:203, len: 15, solution eval: 0.9560660911538105\n",
      "i:204, len: 14, solution eval: 0.9560660911538105\n",
      "i:205, len: 15, solution eval: 0.9560660911538105\n",
      "i:206, len: 15, solution eval: 0.9560660911538105\n",
      "i:207, len: 15, solution eval: 0.9560660911538105\n",
      "i:208, len: 17, solution eval: 0.9560660911538105\n",
      "i:209, len: 16, solution eval: 0.9560660911538105\n",
      "i:210, len: 16, solution eval: 0.9560660911538105\n",
      "i:211, len: 16, solution eval: 0.9560660911538105\n",
      "i:212, len: 15, solution eval: 0.9560660911538105\n",
      "i:213, len: 15, solution eval: 0.9560660911538105\n",
      "i:214, len: 15, solution eval: 0.9560660911538105\n",
      "i:215, len: 15, solution eval: 0.9560660911538105\n",
      "i:216, len: 14, solution eval: 0.9560660911538105\n",
      "i:217, len: 15, solution eval: 0.9560660911538105\n",
      "i:218, len: 15, solution eval: 0.9560660911538105\n",
      "i:219, len: 15, solution eval: 0.9560660911538105\n",
      "i:220, len: 16, solution eval: 0.9560660911538105\n",
      "i:221, len: 15, solution eval: 0.9560660911538105\n",
      "i:222, len: 15, solution eval: 0.9560660911538105\n",
      "i:223, len: 14, solution eval: 0.9560660911538105\n",
      "i:224, len: 16, solution eval: 0.9560660911538105\n",
      "i:225, len: 17, solution eval: 0.9560660911538105\n",
      "i:226, len: 14, solution eval: 0.9560660911538105\n",
      "i:227, len: 14, solution eval: 0.9560660911538105\n",
      "i:228, len: 15, solution eval: 0.9560660911538105\n",
      "i:229, len: 14, solution eval: 0.9560660911538105\n",
      "i:230, len: 18, solution eval: 0.9560660911538105\n",
      "i:231, len: 16, solution eval: 0.9560660911538105\n",
      "i:232, len: 15, solution eval: 0.9560660911538105\n",
      "i:233, len: 14, solution eval: 0.9560660911538105\n",
      "i:234, len: 16, solution eval: 0.9560660911538105\n",
      "i:235, len: 15, solution eval: 0.9560660911538105\n",
      "i:236, len: 15, solution eval: 0.9560660911538105\n",
      "i:237, len: 15, solution eval: 0.9560660911538105\n",
      "i:238, len: 15, solution eval: 0.9560660911538105\n",
      "i:239, len: 16, solution eval: 0.9560660911538105\n",
      "i:240, len: 16, solution eval: 0.9560660911538105\n",
      "i:241, len: 15, solution eval: 0.9560660911538105\n",
      "i:242, len: 13, solution eval: 0.9560660911538105\n",
      "i:243, len: 14, solution eval: 0.9560660911538105\n",
      "i:244, len: 14, solution eval: 0.9560660911538105\n",
      "i:245, len: 15, solution eval: 0.9560660911538105\n",
      "i:246, len: 15, solution eval: 0.9560660911538105\n",
      "i:247, len: 15, solution eval: 0.9560660911538105\n",
      "i:248, len: 14, solution eval: 0.9560660911538105\n",
      "i:249, len: 15, solution eval: 0.9560660911538105\n",
      "i:250, len: 16, solution eval: 0.9560660911538105\n",
      "i:251, len: 15, solution eval: 0.9560660911538105\n",
      "i:252, len: 15, solution eval: 0.9560660911538105\n",
      "i:253, len: 15, solution eval: 0.9560660911538105\n",
      "i:254, len: 16, solution eval: 0.9560660911538105\n",
      "i:255, len: 15, solution eval: 0.9560660911538105\n",
      "i:256, len: 14, solution eval: 0.9560660911538105\n",
      "i:257, len: 15, solution eval: 0.9560660911538105\n",
      "i:258, len: 17, solution eval: 0.9560660911538105\n",
      "i:259, len: 15, solution eval: 0.9560660911538105\n",
      "i:260, len: 16, solution eval: 0.9560660911538105\n",
      "i:261, len: 15, solution eval: 0.9560660911538105\n",
      "i:262, len: 14, solution eval: 0.9560660911538105\n",
      "i:263, len: 15, solution eval: 0.9560660911538105\n",
      "i:264, len: 16, solution eval: 0.9560660911538105\n",
      "i:265, len: 15, solution eval: 0.9560660911538105\n",
      "i:266, len: 14, solution eval: 0.9560660911538105\n",
      "i:267, len: 15, solution eval: 0.9560660911538105\n",
      "i:268, len: 14, solution eval: 0.9560660911538105\n",
      "i:269, len: 14, solution eval: 0.9560660911538105\n",
      "i:270, len: 15, solution eval: 0.9560660911538105\n",
      "i:271, len: 15, solution eval: 0.9560660911538105\n",
      "i:272, len: 14, solution eval: 0.9560660911538105\n",
      "i:273, len: 15, solution eval: 0.9560660911538105\n",
      "i:274, len: 15, solution eval: 0.9560660911538105\n",
      "i:275, len: 15, solution eval: 0.9560660911538105\n",
      "i:276, len: 16, solution eval: 0.9560660911538105\n",
      "i:277, len: 16, solution eval: 0.9560660911538105\n",
      "i:278, len: 15, solution eval: 0.9560660911538105\n",
      "i:279, len: 15, solution eval: 0.9560660911538105\n",
      "i:280, len: 14, solution eval: 0.9560660911538105\n",
      "i:281, len: 16, solution eval: 0.9560660911538105\n",
      "i:282, len: 15, solution eval: 0.9560660911538105\n",
      "i:283, len: 15, solution eval: 0.9560660911538105\n",
      "i:284, len: 15, solution eval: 0.9560660911538105\n",
      "i:285, len: 16, solution eval: 0.9560660911538105\n",
      "i:286, len: 14, solution eval: 0.9560660911538105\n",
      "i:287, len: 14, solution eval: 0.9560660911538105\n",
      "i:288, len: 15, solution eval: 0.9560660911538105\n",
      "i:289, len: 15, solution eval: 0.9560660911538105\n",
      "i:290, len: 15, solution eval: 0.9560660911538105\n",
      "i:291, len: 15, solution eval: 0.9560660911538105\n",
      "i:292, len: 14, solution eval: 0.9560660911538105\n",
      "i:293, len: 15, solution eval: 0.9560660911538105\n",
      "i:294, len: 13, solution eval: 0.9560660911538105\n",
      "i:295, len: 15, solution eval: 0.9560660911538105\n",
      "i:296, len: 15, solution eval: 0.9560660911538105\n",
      "i:297, len: 15, solution eval: 0.9560660911538105\n",
      "i:298, len: 15, solution eval: 0.9560660911538105\n",
      "i:299, len: 15, solution eval: 0.9560660911538105\n",
      "i:300, len: 15, solution eval: 0.9560660911538105\n",
      "ix: [2, 6, 9, 12, 13, 15, 16, 17, 19, 20, 21, 23, 24, 26, 28], len(ix): 15, score: 0.9560660911538105\n"
     ]
    }
   ],
   "source": [
    "# perform the hill climbing search\n",
    "subset, score = hillclimbing(X, y, objective, n_iter, p_mut)\n",
    "# convert into column indexes\n",
    "ix = [i for i, x in enumerate(subset) if x]\n",
    "print(f\"ix: {ix}, len(ix): {len(ix)}, score: {score}\")"
   ],
   "metadata": {
    "collapsed": false,
    "ExecuteTime": {
     "start_time": "2023-04-02T22:18:09.270297Z",
     "end_time": "2023-04-02T22:18:11.313521Z"
    }
   }
  },
  {
   "cell_type": "code",
   "execution_count": 123,
   "outputs": [
    {
     "name": "stdout",
     "output_type": "stream",
     "text": [
      "ix: [2, 6, 9, 12, 13, 15, 16, 17, 19, 20, 21, 23, 24, 26, 28], len(ix): 15, score: 0.9560660911538105\n"
     ]
    }
   ],
   "source": [
    "print(f\"ix: {ix}, len(ix): {len(ix)}, score: {score}\")"
   ],
   "metadata": {
    "collapsed": false,
    "ExecuteTime": {
     "start_time": "2023-04-02T22:18:15.703855Z",
     "end_time": "2023-04-02T22:18:15.711407Z"
    }
   }
  },
  {
   "cell_type": "code",
   "execution_count": 124,
   "outputs": [
    {
     "data": {
      "text/plain": "['mean perimeter',\n 'mean concavity',\n 'mean fractal dimension',\n 'perimeter error',\n 'area error',\n 'compactness error',\n 'concavity error',\n 'concave points error',\n 'fractal dimension error',\n 'worst radius',\n 'worst texture',\n 'worst area',\n 'worst smoothness',\n 'worst concavity',\n 'worst symmetry']"
     },
     "execution_count": 124,
     "metadata": {},
     "output_type": "execute_result"
    }
   ],
   "source": [
    "column_names_by_indexes(df.columns, ix)"
   ],
   "metadata": {
    "collapsed": false,
    "ExecuteTime": {
     "start_time": "2023-04-02T22:18:18.003027Z",
     "end_time": "2023-04-02T22:18:18.008196Z"
    }
   }
  },
  {
   "cell_type": "code",
   "execution_count": null,
   "outputs": [],
   "source": [],
   "metadata": {
    "collapsed": false
   }
  }
 ],
 "metadata": {
  "kernelspec": {
   "display_name": "Python 3",
   "language": "python",
   "name": "python3"
  },
  "language_info": {
   "codemirror_mode": {
    "name": "ipython",
    "version": 2
   },
   "file_extension": ".py",
   "mimetype": "text/x-python",
   "name": "python",
   "nbconvert_exporter": "python",
   "pygments_lexer": "ipython2",
   "version": "2.7.6"
  }
 },
 "nbformat": 4,
 "nbformat_minor": 0
}
